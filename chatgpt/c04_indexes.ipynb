{
 "cells": [
  {
   "attachments": {},
   "cell_type": "markdown",
   "metadata": {},
   "source": [
    "[![Open in Colab](https://colab.research.google.com/assets/colab-badge.svg)](https://colab.research.google.com/github/fin-py/chatgpt-api-hands-on/blob/main/docs/indexes.ipynb)"
   ]
  },
  {
   "attachments": {},
   "cell_type": "markdown",
   "metadata": {},
   "source": [
    "# Indexes\n",
    "\n",
    "indexesとは、LLMがドキュメントと最適なやり取りができるように、ドキュメントを構造化する方法です。\n",
    "\n",
    "indexesを使用する最も一般的な方法は、「検索」ステップです。このステップは、ユーザーのクエリを受け取り、最も関連性の高いドキュメントを返すことを意味します。"
   ]
  },
  {
   "attachments": {},
   "cell_type": "markdown",
   "metadata": {},
   "source": [
    "## Document Loaders\n",
    "\n",
    "言語モデルと独自のテキストデータを組み合わせることは、言語モデルを差別化するための強力な方法です。そのための最初のステップは、データをdocumentsに読み込むことです。documentsとは、いくつかのテキストのピースを指します。\n",
    "\n",
    "LangChainにはさまざまなDocument Loaderが提供されています。\n",
    "\n",
    "https://python.langchain.com/en/latest/modules/indexes/document_loaders.html"
   ]
  },
  {
   "attachments": {},
   "cell_type": "markdown",
   "metadata": {},
   "source": [
    "### JSON Files\n",
    "\n",
    "ここでは `JSONLoader` を使ってJSONファイルを扱います。"
   ]
  },
  {
   "cell_type": "code",
   "execution_count": 1,
   "metadata": {},
   "outputs": [
    {
     "data": {
      "text/plain": [
       "{'results_start': 1,\n",
       " 'results_returned': 1,\n",
       " 'results_available': 1,\n",
       " 'events': [{'event_id': 281632,\n",
       "   'title': 'ChatGPTのAPIを使ってみよう',\n",
       "   'catch': 'ついでにLangChainをさわってみよう',\n",
       "   'description': '<h1>概要</h1>\\n<p>本イベントでは、初めてChatGPTのAPIを利用する方を対象に、APIの使い方を学び、実際に操作します。従来、Web UIから利用していた方でも、APIを使うことでより高度な文章を扱え、APIの利点を知るきっかけになるかもしれません。</p>\\n<p>ハンズオンではプロンプトに複数の長い文章をまとめて入力して、要約した内容を生成します。</p>\\n<h1>参加条件</h1>\\n<p>下記の準備をしておいてください</p>\\n<ol>\\n<li>OpenAIのアカウント</li>\\n<li>利用できるAPIキー（無料プランの場合、1ヶ月で利用できる制限があります）</li>\\n<li>Python環境</li>\\n</ol>\\n<h1>タイムテーブル</h1>\\n<ol>\\n<li>オープニング</li>\\n<li>ハンズオン</li>\\n<li>フリータイム（実際に動かしてみる）</li>\\n<li>成果共有</li>\\n<li>クロージング</li>\\n</ol>\\n<h1>免責事項</h1>\\n<ul>\\n<li>本イベントは法務、会計、税務、経営、投資その他に係る助言を構成するものではありません</li>\\n<li>本イベント から生じたいかなる損害に関して、イベントの参加者およびコミュニティは一切の責任を負うものではありません</li>\\n</ul>',\n",
       "   'event_url': 'https://fin-py.connpass.com/event/281632/',\n",
       "   'started_at': '2023-05-12T19:00:00+09:00',\n",
       "   'ended_at': '2023-05-12T21:00:00+09:00',\n",
       "   'limit': None,\n",
       "   'hash_tag': '',\n",
       "   'event_type': 'participation',\n",
       "   'accepted': 55,\n",
       "   'waiting': 0,\n",
       "   'updated_at': '2023-05-12T07:52:09+09:00',\n",
       "   'owner_id': 36417,\n",
       "   'owner_nickname': 'driller',\n",
       "   'owner_display_name': 'driller',\n",
       "   'place': 'オンライン(Brave Talk)',\n",
       "   'address': '',\n",
       "   'lat': None,\n",
       "   'lon': None,\n",
       "   'series': {'id': 3056,\n",
       "    'title': 'fin-py',\n",
       "    'url': 'https://fin-py.connpass.com/'}}]}"
      ]
     },
     "execution_count": 1,
     "metadata": {},
     "output_type": "execute_result"
    }
   ],
   "source": [
    "import json\n",
    "from urllib import request\n",
    "\n",
    "with request.urlopen(\"https://connpass.com/api/v1/event/?event_id=281632\") as res:\n",
    "    data = json.load(res)\n",
    "    with open(\"event.json\", \"w\") as f:\n",
    "        json.dump(data, f)\n",
    "\n",
    "data"
   ]
  },
  {
   "attachments": {},
   "cell_type": "markdown",
   "metadata": {},
   "source": [
    "`JSONLoader` の引数 `jq_schema` には [jq](https://stedolan.github.io/jq/) のフィルタ記法が利用できます。"
   ]
  },
  {
   "cell_type": "code",
   "execution_count": 2,
   "metadata": {},
   "outputs": [
    {
     "data": {
      "text/plain": [
       "[Document(page_content='<h1>概要</h1>\\n<p>本イベントでは、初めてChatGPTのAPIを利用する方を対象に、APIの使い方を学び、実際に操作します。従来、Web UIから利用していた方でも、APIを使うことでより高度な文章を扱え、APIの利点を知るきっかけになるかもしれません。</p>\\n<p>ハンズオンではプロンプトに複数の長い文章をまとめて入力して、要約した内容を生成します。</p>\\n<h1>参加条件</h1>\\n<p>下記の準備をしておいてください</p>\\n<ol>\\n<li>OpenAIのアカウント</li>\\n<li>利用できるAPIキー（無料プランの場合、1ヶ月で利用できる制限があります）</li>\\n<li>Python環境</li>\\n</ol>\\n<h1>タイムテーブル</h1>\\n<ol>\\n<li>オープニング</li>\\n<li>ハンズオン</li>\\n<li>フリータイム（実際に動かしてみる）</li>\\n<li>成果共有</li>\\n<li>クロージング</li>\\n</ol>\\n<h1>免責事項</h1>\\n<ul>\\n<li>本イベントは法務、会計、税務、経営、投資その他に係る助言を構成するものではありません</li>\\n<li>本イベント から生じたいかなる損害に関して、イベントの参加者およびコミュニティは一切の責任を負うものではありません</li>\\n</ul>', metadata={'source': '/home/driller/repo/chatgpt-api-hands-on/docs/event.json', 'seq_num': 1})]"
      ]
     },
     "execution_count": 2,
     "metadata": {},
     "output_type": "execute_result"
    }
   ],
   "source": [
    "from langchain.document_loaders import JSONLoader\n",
    "\n",
    "loader = JSONLoader(\n",
    "    file_path=\"event.json\",\n",
    "    jq_schema=\".events[].description\"\n",
    ")\n",
    "loader.load()"
   ]
  },
  {
   "attachments": {},
   "cell_type": "markdown",
   "metadata": {},
   "source": [
    "## Text Splitters\n",
    "\n",
    "大きなテキストデータを扱う場合はそのテキストを分割する必要があります。"
   ]
  },
  {
   "attachments": {},
   "cell_type": "markdown",
   "metadata": {},
   "source": [
    "### Character Text Splitter\n",
    "\n",
    "`CharacterTextSplitter` は文字列を指定したチャンクサイズで分割します。"
   ]
  },
  {
   "cell_type": "code",
   "execution_count": 3,
   "metadata": {},
   "outputs": [],
   "source": [
    "text = \"\"\"\\\n",
    "我々は一人の英雄を失った。しかし、これは敗北を意味するのか？否！始まりなのだ！\n",
    "地球連邦に比べ、我がジオンの国力は30分の1以下である。\n",
    "にもかかわらず今日まで戦い抜いてこられたのは何故か？\n",
    "諸君！我がジオン公国の戦争目的が正義だからだ。これは諸君らが一番知っている。\n",
    "我々は地球を追われ、宇宙移民者にさせられた。\n",
    "そして、一握りのエリートらが宇宙にまで膨れ上がった地球連邦を支配して50余年、\n",
    "宇宙に住む我々が自由を要求して何度踏みにじられたか。\n",
    "ジオン公国の掲げる人類一人一人の自由のための戦いを神が見捨てるはずはない。\n",
    "私の弟！諸君らが愛してくれたガルマ・ザビは死んだ。\n",
    "何故だ！？\n",
    "新しい時代の覇権を選ばれた国民が得るは、歴史の必然である。\n",
    "ならば、我らは襟を正し、この戦局を打開しなければならぬ。\n",
    "我々は過酷な宇宙空間を生活の場としながらも共に苦悩し、錬磨して今日の文化を築き上げてきた。\n",
    "かつて、ジオン・ダイクンは人類の革新は宇宙の民たる我々から始まると言った。\n",
    "しかしながら地球連邦のモグラ共は、自分たちが人類の支配権を有すると増長し我々に抗戦する。\n",
    "諸君の父も、子もその連邦の無思慮な抵抗の前に死んでいったのだ！\n",
    "この悲しみも怒りも忘れてはならない！それを、ガルマは！死をもって我々に示してくれた！\n",
    "我々は今、この怒りを結集し、連邦軍に叩きつけて、初めて真の勝利を得ることができる。\n",
    "この勝利こそ、戦死者全てへの最大の慰めとなる。\n",
    "国民よ立て！悲しみを怒りに変えて、立てよ！国民よ！\n",
    "我らジオン国国民こそ選ばれた民であることを忘れないでほしいのだ。\n",
    "優良種である我らこそ人類を救い得るのである。ジーク・ジオン！\\\n",
    "\"\"\""
   ]
  },
  {
   "cell_type": "code",
   "execution_count": 4,
   "metadata": {},
   "outputs": [
    {
     "data": {
      "text/plain": [
       "Document(page_content='我々は一人の英雄を失った。しかし、これは敗北を意味するのか？否！始まりなのだ！\\n地球連邦に比べ、我がジオンの国力は30分の1以下である。\\nにもかかわらず今日まで戦い抜いてこられたのは何故か？\\n諸君！我がジオン公国の戦争目的が正義だからだ。これは諸君らが一番知っている。\\n我々は地球を追われ、宇宙移民者にさせられた。\\nそして、一握りのエリートらが宇宙にまで膨れ上がった地球連邦を支配して50余年、', metadata={})"
      ]
     },
     "execution_count": 4,
     "metadata": {},
     "output_type": "execute_result"
    }
   ],
   "source": [
    "from langchain.text_splitter import CharacterTextSplitter\n",
    "\n",
    "text_splitter = CharacterTextSplitter(        \n",
    "    separator = \"\\n\",\n",
    "    chunk_size = 200,\n",
    "    chunk_overlap  = 10,\n",
    "    length_function = len,\n",
    ")\n",
    "texts = text_splitter.create_documents([text])\n",
    "texts[0]"
   ]
  },
  {
   "attachments": {},
   "cell_type": "markdown",
   "metadata": {},
   "source": [
    "### Markdown Text Splitter\n",
    "\n",
    "`MarkdownTextSplitter` はMarkown記法の見出しやブロックなどで分割します。"
   ]
  },
  {
   "cell_type": "code",
   "execution_count": 5,
   "metadata": {},
   "outputs": [],
   "source": [
    "markdown_text = \"\"\"\n",
    "# 🦜️🔗 LangChain\n",
    "\n",
    "⚡ Building applications with LLMs through composability ⚡\n",
    "\n",
    "## Quick Install\n",
    "\n",
    "```bash\n",
    "# Hopefully this code block isn't split\n",
    "pip install langchain\n",
    "```\n",
    "\n",
    "As an open source project in a rapidly developing field, we are extremely open to contributions.\n",
    "\"\"\""
   ]
  },
  {
   "cell_type": "code",
   "execution_count": 6,
   "metadata": {},
   "outputs": [
    {
     "data": {
      "text/plain": [
       "[Document(page_content='# 🦜️🔗 LangChain\\n\\n⚡ Building applications with LLMs through composability ⚡', metadata={}),\n",
       " Document(page_content=\"Quick Install\\n\\n```bash\\n# Hopefully this code block isn't split\\npip install langchain\", metadata={}),\n",
       " Document(page_content='As an open source project in a rapidly developing field, we are extremely open to contributions.', metadata={})]"
      ]
     },
     "execution_count": 6,
     "metadata": {},
     "output_type": "execute_result"
    }
   ],
   "source": [
    "from langchain.text_splitter import MarkdownTextSplitter\n",
    "\n",
    "\n",
    "markdown_splitter = MarkdownTextSplitter(chunk_size=100, chunk_overlap=0)\n",
    "docs = markdown_splitter.create_documents([markdown_text])\n",
    "docs"
   ]
  }
 ],
 "metadata": {
  "kernelspec": {
   "display_name": ".venv",
   "language": "python",
   "name": "python3"
  },
  "language_info": {
   "codemirror_mode": {
    "name": "ipython",
    "version": 3
   },
   "file_extension": ".py",
   "mimetype": "text/x-python",
   "name": "python",
   "nbconvert_exporter": "python",
   "pygments_lexer": "ipython3",
   "version": "3.10.10"
  },
  "orig_nbformat": 4
 },
 "nbformat": 4,
 "nbformat_minor": 2
}
