{
 "cells": [
  {
   "attachments": {},
   "cell_type": "markdown",
   "metadata": {},
   "source": [
    "[![Open in Colab](https://colab.research.google.com/assets/colab-badge.svg)](https://colab.research.google.com/github/fin-py/chatgpt-api-hands-on/blob/main/docs/prompts.ipynb)"
   ]
  },
  {
   "attachments": {},
   "cell_type": "markdown",
   "metadata": {},
   "source": [
    "# Prompts\n",
    "\n",
    "promptモデルへの入力です、promptを動的に作成・操作できるようにクラスや関数が利用できます。\n",
    "\n",
    "- LLM Prompt Templates\n",
    "- Chat Prompt Templates\n",
    "- Example Selectors\n",
    "- Output Parsers"
   ]
  },
  {
   "attachments": {},
   "cell_type": "markdown",
   "metadata": {},
   "source": [
    "## Prompt Templates\n",
    "\n",
    "Prompt Templatesとは、promptを生成するための再現可能な方法を指します。テキスト文字列（テンプレート）が含まれており、エンドユーザーからパラメータのセットを受け取り、promptを生成できます。\n",
    "\n",
    "次のコードはPrompt Templatesの例です。"
   ]
  },
  {
   "cell_type": "code",
   "execution_count": 1,
   "metadata": {},
   "outputs": [
    {
     "data": {
      "text/plain": [
       "'\\nあなたは句会のメンバーです\\n売上高 の俳句を読んでください\\n'"
      ]
     },
     "execution_count": 1,
     "metadata": {},
     "output_type": "execute_result"
    }
   ],
   "source": [
    "from langchain import PromptTemplate\n",
    "\n",
    "\n",
    "template = \"\"\"\n",
    "あなたは句会のメンバーです\n",
    "{season} の俳句を読んでください\n",
    "\"\"\"\n",
    "\n",
    "prompt = PromptTemplate(\n",
    "    input_variables=[\"season\"],\n",
    "    template=template,\n",
    ")\n",
    "prompt.format(season=\"売上高\")"
   ]
  },
  {
   "attachments": {},
   "cell_type": "markdown",
   "metadata": {},
   "source": [
    "入力変数がないpromptの例です。"
   ]
  },
  {
   "cell_type": "code",
   "execution_count": 2,
   "metadata": {},
   "outputs": [
    {
     "data": {
      "text/plain": [
       "'夏の俳句を読んでください'"
      ]
     },
     "execution_count": 2,
     "metadata": {},
     "output_type": "execute_result"
    }
   ],
   "source": [
    "# An example prompt with no input variables\n",
    "no_input_prompt = PromptTemplate(input_variables=[], template=\"夏の俳句を読んでください\")\n",
    "no_input_prompt.format()\n"
   ]
  },
  {
   "attachments": {},
   "cell_type": "markdown",
   "metadata": {},
   "source": [
    "入力変数が1つの場合の例です。"
   ]
  },
  {
   "cell_type": "code",
   "execution_count": 3,
   "metadata": {},
   "outputs": [
    {
     "data": {
      "text/plain": [
       "'夏 の俳句を読んでください'"
      ]
     },
     "execution_count": 3,
     "metadata": {},
     "output_type": "execute_result"
    }
   ],
   "source": [
    "# An example prompt with one input variable\n",
    "one_input_prompt = PromptTemplate(input_variables=[\"season\"], template=\"{season} の俳句を読んでください\")\n",
    "one_input_prompt.format(season=\"夏\")"
   ]
  },
  {
   "attachments": {},
   "cell_type": "markdown",
   "metadata": {},
   "source": [
    "複数の入力変数を持つプロンプトの例です。"
   ]
  },
  {
   "cell_type": "code",
   "execution_count": 4,
   "metadata": {},
   "outputs": [
    {
     "data": {
      "text/plain": [
       "'スイカ を題材にして 夏 の俳句を読んでください'"
      ]
     },
     "execution_count": 4,
     "metadata": {},
     "output_type": "execute_result"
    }
   ],
   "source": [
    "# An example prompt with multiple input variables\n",
    "multiple_input_prompt = PromptTemplate(\n",
    "    input_variables=[\"season\", \"theme\"], \n",
    "    template=\"{theme} を題材にして {season} の俳句を読んでください\"\n",
    ")\n",
    "multiple_input_prompt.format(season=\"夏\", theme=\"スイカ\")"
   ]
  },
  {
   "attachments": {},
   "cell_type": "markdown",
   "metadata": {},
   "source": [
    "`input_variables` を手動で指定したくない場合は、 `from_template` メソッドでPrompt Templateを作成できます。"
   ]
  },
  {
   "cell_type": "code",
   "execution_count": 5,
   "metadata": {},
   "outputs": [
    {
     "data": {
      "text/plain": [
       "['season', 'theme']"
      ]
     },
     "execution_count": 5,
     "metadata": {},
     "output_type": "execute_result"
    }
   ],
   "source": [
    "template = \"{theme} を題材にして {season} の俳句を読んでください\"\n",
    "\n",
    "prompt_template = PromptTemplate.from_template(template)\n",
    "prompt_template.input_variables"
   ]
  },
  {
   "cell_type": "code",
   "execution_count": 6,
   "metadata": {},
   "outputs": [
    {
     "data": {
      "text/plain": [
       "'スイカ を題材にして 夏 の俳句を読んでください'"
      ]
     },
     "execution_count": 6,
     "metadata": {},
     "output_type": "execute_result"
    }
   ],
   "source": [
    "prompt_template.format(season=\"夏\", theme=\"スイカ\")"
   ]
  },
  {
   "attachments": {},
   "cell_type": "markdown",
   "metadata": {},
   "source": [
    "## Chat Prompt Template\n",
    "\n"
   ]
  },
  {
   "attachments": {},
   "cell_type": "markdown",
   "metadata": {},
   "source": [
    "[Chat Models](https://python.langchain.com/en/latest/modules/models/chat.html) はチャットメッセージのリストを入力として受け取ります。このリストは一般にpromptと呼ばれます。これらのチャットメッセージはroleと関連付けられています。"
   ]
  },
  {
   "cell_type": "code",
   "execution_count": 7,
   "metadata": {},
   "outputs": [],
   "source": [
    "from langchain.prompts import (\n",
    "    ChatPromptTemplate,\n",
    "    PromptTemplate,\n",
    "    SystemMessagePromptTemplate,\n",
    "    AIMessagePromptTemplate,\n",
    "    HumanMessagePromptTemplate,\n",
    ")\n",
    "from langchain.schema import (\n",
    "    AIMessage,\n",
    "    HumanMessage,\n",
    "    SystemMessage\n",
    ")"
   ]
  },
  {
   "attachments": {},
   "cell_type": "markdown",
   "metadata": {},
   "source": [
    "roleに関連するメッセージテンプレートを作成するには、 `MessagePromptTemplate` を使います。"
   ]
  },
  {
   "cell_type": "code",
   "execution_count": 20,
   "metadata": {},
   "outputs": [
    {
     "name": "stdout",
     "output_type": "stream",
     "text": [
      "prompt=PromptTemplate(input_variables=['input_language', 'output_language'], output_parser=None, partial_variables={}, template='あなたは {input_language} と {output_language} の通訳者です', template_format='f-string', validate_template=True) additional_kwargs={}\n",
      "prompt=PromptTemplate(input_variables=['text'], output_parser=None, partial_variables={}, template='{text}', template_format='f-string', validate_template=True) additional_kwargs={}\n"
     ]
    }
   ],
   "source": [
    "template=\"あなたは {input_language} と {output_language} の通訳者です\"\n",
    "system_message_prompt = SystemMessagePromptTemplate.from_template(template)\n",
    "human_template=\"{text}\"\n",
    "human_message_prompt = HumanMessagePromptTemplate.from_template(human_template)\n",
    "\n",
    "print(system_message_prompt)\n",
    "print(human_message_prompt)"
   ]
  },
  {
   "attachments": {},
   "cell_type": "markdown",
   "metadata": {},
   "source": [
    "`PromptTemplate` からも作成できます。"
   ]
  },
  {
   "cell_type": "code",
   "execution_count": 19,
   "metadata": {},
   "outputs": [],
   "source": [
    "prompt=PromptTemplate(\n",
    "    template=\"あなたは {input_language} と {output_language} の通訳者です\",\n",
    "    input_variables=[\"input_language\", \"output_language\"],\n",
    ")\n",
    "system_message_prompt_2 = SystemMessagePromptTemplate(prompt=prompt)\n",
    "\n",
    "assert system_message_prompt == system_message_prompt_2"
   ]
  },
  {
   "attachments": {},
   "cell_type": "markdown",
   "metadata": {},
   "source": [
    "`MessagePromptTemplate` から `ChatPromptTemplate` を構築します。"
   ]
  },
  {
   "cell_type": "code",
   "execution_count": 21,
   "metadata": {},
   "outputs": [
    {
     "data": {
      "text/plain": [
       "[SystemMessage(content='あなたは 英語 と 日本語 の通訳者です', additional_kwargs={}),\n",
       " HumanMessage(content='I have a pen.', additional_kwargs={}, example=False)]"
      ]
     },
     "execution_count": 21,
     "metadata": {},
     "output_type": "execute_result"
    }
   ],
   "source": [
    "chat_prompt = ChatPromptTemplate.from_messages([system_message_prompt, human_message_prompt])\n",
    "\n",
    "# get a chat completion from the formatted messages\n",
    "chat_prompt.format_prompt(input_language=\"英語\", output_language=\"日本語\", text=\"I have a pen.\").to_messages()"
   ]
  },
  {
   "attachments": {},
   "cell_type": "markdown",
   "metadata": {},
   "source": [
    "## Format output\n",
    "\n",
    "`format` メソッド、 `to_string` メソッドは入力promptからフォーマットされた文字列を返します。"
   ]
  },
  {
   "cell_type": "code",
   "execution_count": 23,
   "metadata": {},
   "outputs": [
    {
     "data": {
      "text/plain": [
       "'System: あなたは English と French の通訳者です\\nHuman: I have a pen.'"
      ]
     },
     "execution_count": 23,
     "metadata": {},
     "output_type": "execute_result"
    }
   ],
   "source": [
    "chat_prompt.format(input_language=\"英語\", output_language=\"日本語\", text=\"I have a pen.\")"
   ]
  },
  {
   "cell_type": "code",
   "execution_count": 27,
   "metadata": {},
   "outputs": [
    {
     "data": {
      "text/plain": [
       "'System: あなたは 英語 と 日本語 の通訳者です\\nHuman: I have a pen.'"
      ]
     },
     "execution_count": 27,
     "metadata": {},
     "output_type": "execute_result"
    }
   ],
   "source": [
    "chat_prompt.format_prompt(input_language=\"英語\", output_language=\"日本語\", text=\"I have a pen.\").to_string()"
   ]
  },
  {
   "attachments": {},
   "cell_type": "markdown",
   "metadata": {},
   "source": [
    "## MessagePromptTemplate\n",
    "\n"
   ]
  },
  {
   "attachments": {},
   "cell_type": "markdown",
   "metadata": {},
   "source": [
    "`ChatMessagePromptTemplate` ではroleを指定できます。"
   ]
  },
  {
   "cell_type": "code",
   "execution_count": 30,
   "metadata": {},
   "outputs": [
    {
     "data": {
      "text/plain": [
       "ChatMessage(content='私は チェス のプレイヤーです', additional_kwargs={}, role='player')"
      ]
     },
     "execution_count": 30,
     "metadata": {},
     "output_type": "execute_result"
    }
   ],
   "source": [
    "from langchain.prompts import ChatMessagePromptTemplate\n",
    "\n",
    "prompt = \"私は {subject} のプレイヤーです\"\n",
    "\n",
    "chat_message_prompt = ChatMessagePromptTemplate.from_template(role=\"player\", template=prompt)\n",
    "chat_message_prompt.format(subject=\"チェス\")"
   ]
  },
  {
   "attachments": {},
   "cell_type": "markdown",
   "metadata": {},
   "source": [
    "`MessagesPlaceholder` はフォーマット中に表示されるメッセージを完全にコントロールできます。これはメッセージプロンプトテンプレートにどのようなroleを使用すべきか不明な場合や、フォーマット中にメッセージのリストを挿入したい場合に便利です。"
   ]
  },
  {
   "cell_type": "code",
   "execution_count": 35,
   "metadata": {},
   "outputs": [
    {
     "data": {
      "text/plain": [
       "[HumanMessage(content='What is the best way to learn programming?', additional_kwargs={}, example=False),\n",
       " AIMessage(content='我々は一人の英雄を失った。しかし、これは敗北を意味するのか？否！始まりなのだ！\\n地球連邦に比べ、我がジオンの国力は30分の1以下である。\\nにもかかわらず今日まで戦い抜いてこられたのは何故か？\\n諸君！我がジオン公国の戦争目的が正義だからだ。これは諸君らが一番知っている。\\n我々は地球を追われ、宇宙移民者にさせられた。\\nそして、一握りのエリートらが宇宙にまで膨れ上がった地球連邦を支配して50余年、\\n宇宙に住む我々が自由を要求して何度踏みにじられたか。\\nジオン公国の掲げる人類一人一人の自由のための戦いを神が見捨てるはずはない。\\n私の弟！諸君らが愛してくれたガルマ・ザビは死んだ。\\n何故だ！？', additional_kwargs={}, example=False),\n",
       " HumanMessage(content='Summarize our conversation so far in 10 words.', additional_kwargs={}, example=False)]"
      ]
     },
     "execution_count": 35,
     "metadata": {},
     "output_type": "execute_result"
    }
   ],
   "source": [
    "from langchain.prompts import MessagesPlaceholder\n",
    "\n",
    "human_prompt = \"Summarize our conversation so far in {word_count} words.\"\n",
    "human_message_template = HumanMessagePromptTemplate.from_template(human_prompt)\n",
    "\n",
    "chat_prompt = ChatPromptTemplate.from_messages([MessagesPlaceholder(variable_name=\"conversation\"), human_message_template])\n",
    "human_message = HumanMessage(content=\"What is the best way to learn programming?\")\n",
    "ai_message = AIMessage(content=\"\"\"\\\n",
    "我々は一人の英雄を失った。しかし、これは敗北を意味するのか？否！始まりなのだ！\n",
    "地球連邦に比べ、我がジオンの国力は30分の1以下である。\n",
    "にもかかわらず今日まで戦い抜いてこられたのは何故か？\n",
    "諸君！我がジオン公国の戦争目的が正義だからだ。これは諸君らが一番知っている。\n",
    "我々は地球を追われ、宇宙移民者にさせられた。\n",
    "そして、一握りのエリートらが宇宙にまで膨れ上がった地球連邦を支配して50余年、\n",
    "宇宙に住む我々が自由を要求して何度踏みにじられたか。\n",
    "ジオン公国の掲げる人類一人一人の自由のための戦いを神が見捨てるはずはない。\n",
    "私の弟！諸君らが愛してくれたガルマ・ザビは死んだ。\n",
    "何故だ！？\\\n",
    "\"\"\")\n",
    "\n",
    "chat_prompt.format_prompt(conversation=[human_message, ai_message], word_count=\"10\").to_messages()"
   ]
  }
 ],
 "metadata": {
  "kernelspec": {
   "display_name": ".venv",
   "language": "python",
   "name": "python3"
  },
  "language_info": {
   "codemirror_mode": {
    "name": "ipython",
    "version": 3
   },
   "file_extension": ".py",
   "mimetype": "text/x-python",
   "name": "python",
   "nbconvert_exporter": "python",
   "pygments_lexer": "ipython3",
   "version": "3.10.10"
  },
  "orig_nbformat": 4
 },
 "nbformat": 4,
 "nbformat_minor": 2
}
