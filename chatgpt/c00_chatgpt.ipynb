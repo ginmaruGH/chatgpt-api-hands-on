{
 "cells": [
  {
   "attachments": {},
   "cell_type": "markdown",
   "metadata": {},
   "source": [
    "[![Open in Colab](https://colab.research.google.com/assets/colab-badge.svg)](https://colab.research.google.com/github/fin-py/chatgpt-api-hands-on/blob/main/docs/chatgpt-api.ipynb)"
   ]
  },
  {
   "attachments": {},
   "cell_type": "markdown",
   "metadata": {},
   "source": [
    "# ChatGPT API入門\n",
    "\n",
    "ここでは [ChatGPT API Reference](https://platform.openai.com/docs/api-reference/introduction?lang=python) を参考に、Pythonの公式バインディングを使ってAPIを利用します。"
   ]
  },
  {
   "attachments": {},
   "cell_type": "markdown",
   "metadata": {},
   "source": [
    "## 環境設定\n",
    "\n",
    "Pythonの公式バインディングをインストールします。\n",
    "\n",
    "```bash\n",
    "pip install openai\n",
    "```"
   ]
  },
  {
   "attachments": {},
   "cell_type": "markdown",
   "metadata": {},
   "source": [
    "[API key](https://platform.openai.com/account/api-keys) の環境変数を設定します。"
   ]
  },
  {
   "attachments": {},
   "cell_type": "markdown",
   "metadata": {},
   "source": [
    "Jupyter環境から実行する場合は次のマジックコマンドを実行します。\n",
    "\n",
    "```\n",
    "%env OPENAI_API_KEY=sk-xxx\n",
    "```\n",
    "\n",
    "\n",
    "```{note}\n",
    "`sk-xxx` はAPI keyを指します。ご自身のものに置き換えて実行してください。\n",
    "```"
   ]
  },
  {
   "attachments": {},
   "cell_type": "markdown",
   "metadata": {},
   "source": [
    "Pythonスクリプトから実行する場合は次のコマンドを実行します。\n",
    "\n",
    "```bash\n",
    "export OPENAI_API_KEY=\"sk-xxx\"\n",
    "```"
   ]
  },
  {
   "attachments": {},
   "cell_type": "markdown",
   "metadata": {},
   "source": [
    "VS Codeのワークスペースで環境変数を設定するには、ワークスペースのディレクトリに `.env` ファイルを作成し、環境変数を設定します。\n",
    "\n",
    "```\n",
    "OPENAI_API_KEY=\"sk-xxx\"\n",
    "```\n",
    "\n",
    "`.vscode/settings.json` に次のエントリを追加します。\n",
    "\n",
    "```json\n",
    "{\n",
    "    \"python.envFile\": \"${workspaceFolder}/.env\"\n",
    "}\n",
    "```"
   ]
  },
  {
   "attachments": {},
   "cell_type": "markdown",
   "metadata": {},
   "source": [
    "## Models\n",
    "\n",
    "Modelsではモデルのリストや基本情報を確認します。\n",
    "\n",
    "[List models](https://platform.openai.com/docs/api-reference/models/list) ではどのモデルが利用可能かを確認します。"
   ]
  },
  {
   "cell_type": "code",
   "execution_count": 7,
   "metadata": {},
   "outputs": [
    {
     "data": {
      "text/plain": [
       "<Model model id=babbage at 0x7f9278f50680> JSON: {\n",
       "  \"created\": 1649358449,\n",
       "  \"id\": \"babbage\",\n",
       "  \"object\": \"model\",\n",
       "  \"owned_by\": \"openai\",\n",
       "  \"parent\": null,\n",
       "  \"permission\": [\n",
       "    {\n",
       "      \"allow_create_engine\": false,\n",
       "      \"allow_fine_tuning\": false,\n",
       "      \"allow_logprobs\": true,\n",
       "      \"allow_sampling\": true,\n",
       "      \"allow_search_indices\": false,\n",
       "      \"allow_view\": true,\n",
       "      \"created\": 1669085501,\n",
       "      \"group\": null,\n",
       "      \"id\": \"modelperm-49FUp5v084tBB49tC4z8LPH5\",\n",
       "      \"is_blocking\": false,\n",
       "      \"object\": \"model_permission\",\n",
       "      \"organization\": \"*\"\n",
       "    }\n",
       "  ],\n",
       "  \"root\": \"babbage\"\n",
       "}"
      ]
     },
     "execution_count": 7,
     "metadata": {},
     "output_type": "execute_result"
    }
   ],
   "source": [
    "import os\n",
    "import openai\n",
    "\n",
    "openai.api_key = os.getenv(\"OPENAI_API_KEY\")\n",
    "model_list = openai.Model.list()\n",
    "model_list.get(\"data\")[0]"
   ]
  },
  {
   "attachments": {},
   "cell_type": "markdown",
   "metadata": {},
   "source": [
    "[Retrieve model](https://platform.openai.com/docs/api-reference/models/list?lang=python) ではモデルの基本情報を確認します。"
   ]
  },
  {
   "cell_type": "code",
   "execution_count": 8,
   "metadata": {},
   "outputs": [
    {
     "data": {
      "text/plain": [
       "<Model model id=text-davinci-003 at 0x7f9278698630> JSON: {\n",
       "  \"created\": 1669599635,\n",
       "  \"id\": \"text-davinci-003\",\n",
       "  \"object\": \"model\",\n",
       "  \"owned_by\": \"openai-internal\",\n",
       "  \"parent\": null,\n",
       "  \"permission\": [\n",
       "    {\n",
       "      \"allow_create_engine\": false,\n",
       "      \"allow_fine_tuning\": false,\n",
       "      \"allow_logprobs\": true,\n",
       "      \"allow_sampling\": true,\n",
       "      \"allow_search_indices\": false,\n",
       "      \"allow_view\": true,\n",
       "      \"created\": 1683141911,\n",
       "      \"group\": null,\n",
       "      \"id\": \"modelperm-0BY5Vvyou9mtLXyeOVqfTKGl\",\n",
       "      \"is_blocking\": false,\n",
       "      \"object\": \"model_permission\",\n",
       "      \"organization\": \"*\"\n",
       "    }\n",
       "  ],\n",
       "  \"root\": \"text-davinci-003\"\n",
       "}"
      ]
     },
     "execution_count": 8,
     "metadata": {},
     "output_type": "execute_result"
    }
   ],
   "source": [
    "openai.Model.retrieve(\"text-davinci-003\")"
   ]
  },
  {
   "attachments": {},
   "cell_type": "markdown",
   "metadata": {},
   "source": [
    "## Completions\n",
    "\n",
    "Completionsでは `prompt` に与えられた内容を補完します。\n",
    "\n",
    "ここでは [Create completion](https://platform.openai.com/docs/api-reference/completions/create) を使って `prompt` に曜日の文字列を与えて補完しています。"
   ]
  },
  {
   "cell_type": "code",
   "execution_count": 9,
   "metadata": {},
   "outputs": [
    {
     "data": {
      "text/plain": [
       "<OpenAIObject text_completion id=cmpl-7EEA8kNMN7kQTnDJX6o2yENCJiZG0 at 0x7f9278e3f4c0> JSON: {\n",
       "  \"choices\": [\n",
       "    {\n",
       "      \"finish_reason\": \"length\",\n",
       "      \"index\": 0,\n",
       "      \"logprobs\": null,\n",
       "      \"text\": \" Tuesday Wednesday Thursday Friday Saturday\\n\\n\"\n",
       "    }\n",
       "  ],\n",
       "  \"created\": 1683625388,\n",
       "  \"id\": \"cmpl-7EEA8kNMN7kQTnDJX6o2yENCJiZG0\",\n",
       "  \"model\": \"text-davinci-003\",\n",
       "  \"object\": \"text_completion\",\n",
       "  \"usage\": {\n",
       "    \"completion_tokens\": 7,\n",
       "    \"prompt_tokens\": 2,\n",
       "    \"total_tokens\": 9\n",
       "  }\n",
       "}"
      ]
     },
     "execution_count": 9,
     "metadata": {},
     "output_type": "execute_result"
    }
   ],
   "source": [
    "openai.Completion.create(\n",
    "    model=\"text-davinci-003\", prompt=\"Sunday Monday\", max_tokens=7, temperature=0\n",
    ")"
   ]
  },
  {
   "attachments": {},
   "cell_type": "markdown",
   "metadata": {},
   "source": [
    "`prompt` には複数渡せます。大量のデータがある場合はAPIを使うことでまとめて処理できます。"
   ]
  },
  {
   "cell_type": "code",
   "execution_count": 10,
   "metadata": {},
   "outputs": [
    {
     "name": "stdout",
     "output_type": "stream",
     "text": [
      " Tuesday Wednesday Thursday Friday Saturday\n",
      "\n",
      "\n",
      " March April May June July August September\n"
     ]
    }
   ],
   "source": [
    "completion_result = openai.Completion.create(\n",
    "    model=\"text-davinci-003\",\n",
    "    prompt=[\"Sunday Monday\", \"January February\"],\n",
    "    max_tokens=7,\n",
    "    temperature=0,\n",
    ")\n",
    "for choice in completion_result.get(\"choices\"):\n",
    "    print(choice.text)"
   ]
  },
  {
   "attachments": {},
   "cell_type": "markdown",
   "metadata": {},
   "source": [
    "## Chat\n",
    "\n",
    "Chatはメッセージを与えると応答を返します。\n",
    "\n",
    "ここでは [Create chat completion](https://platform.openai.com/docs/api-reference/chat/create) を使って、俳句を読んでもらいます。\n",
    "\n",
    "`role` には `system` 、 `user` 、 `assistant` のいずれかを指定します。"
   ]
  },
  {
   "cell_type": "code",
   "execution_count": 11,
   "metadata": {},
   "outputs": [
    {
     "data": {
      "text/plain": [
       "['雨降りに\\u3000蛍の光も\\u3000淋しげな',\n",
       " '',\n",
       " '夕立の\\u3000路地を走る\\u3000小さな猫',\n",
       " '',\n",
       " '雨風に\\u3000鈴虫の鳴き声\\u3000寂しげに',\n",
       " '',\n",
       " '涼しさを\\u3000甦らせる梅雨\\u3000鯨の波',\n",
       " '',\n",
       " '小鳥の巣\\u3000雨水も入りて\\u3000きらめく如く',\n",
       " '',\n",
       " '湿気に\\u3000包まれた草木\\u3000密やかなる',\n",
       " '',\n",
       " '濃い霧に\\u3000森の野鳥の\\u3000羽音かな',\n",
       " '',\n",
       " 'すすき葺き\\u3000古き屋根の\\u3000音もせず',\n",
       " '',\n",
       " '夜の静けさ\\u3000雪解けの\\u3000街路かな',\n",
       " '',\n",
       " 'カエルの唄\\u3000聴きながら寝る\\u3000梅雨夜かな',\n",
       " '',\n",
       " '雲に揺れ\\u3000白鳥の姿を\\u3000探る心',\n",
       " '',\n",
       " '熱帯夜に\\u3000時々打つ雷\\u3000ほっとする',\n",
       " '',\n",
       " '虫の音に\\u3000眠れぬ夜は\\u3000つごもりして',\n",
       " '',\n",
       " '秋近し\\u3000草木の息吹\\u3000ひたひたと',\n",
       " '',\n",
       " '蛙鳴くや\\u3000草の戸の外の\\u3000水たまり',\n",
       " '',\n",
       " 'こんな雨の\\u3000夜でも明日に\\u3000期待したい',\n",
       " '',\n",
       " '鳥のさえずりに\\u3000夜明けの梅雨かな',\n",
       " '',\n",
       " '夕暮れに\\u3000沼の蓮が\\u3000冴えやかに',\n",
       " '',\n",
       " '茜雲\\u3000崩れゆく\\u3000梅雨晴れ',\n",
       " '',\n",
       " '湿った土に\\u3000咲くあじさい\\u3000神秘の色',\n",
       " '',\n",
       " '鳴いていれば\\u3000寝かせない猫の\\u3000梅雨場所',\n",
       " '',\n",
       " '洗濯物\\u3000二度干ししても\\u3000おえない梅雨']"
      ]
     },
     "execution_count": 11,
     "metadata": {},
     "output_type": "execute_result"
    }
   ],
   "source": [
    "chat_completion_result = openai.ChatCompletion.create(\n",
    "    model=\"gpt-3.5-turbo\", messages=[{\"role\": \"user\", \"content\": \"梅雨にちなんだ俳句を読んでください\"}]\n",
    ")\n",
    "\n",
    "chat_completion_result.choices[0].message[\"content\"].split(\"\\n\")"
   ]
  },
  {
   "cell_type": "code",
   "execution_count": null,
   "metadata": {},
   "outputs": [],
   "source": []
  }
 ],
 "metadata": {
  "kernelspec": {
   "display_name": "Python 3",
   "language": "python",
   "name": "python3"
  },
  "language_info": {
   "codemirror_mode": {
    "name": "ipython",
    "version": 3
   },
   "file_extension": ".py",
   "mimetype": "text/x-python",
   "name": "python",
   "nbconvert_exporter": "python",
   "pygments_lexer": "ipython3",
   "version": "3.10.10"
  },
  "widgets": {
   "application/vnd.jupyter.widget-state+json": {
    "state": {},
    "version_major": 2,
    "version_minor": 0
   }
  }
 },
 "nbformat": 4,
 "nbformat_minor": 4
}
