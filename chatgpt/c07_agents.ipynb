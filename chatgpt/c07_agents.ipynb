{
 "cells": [
  {
   "attachments": {},
   "cell_type": "markdown",
   "metadata": {},
   "source": [
    "[![Open in Colab](https://colab.research.google.com/assets/colab-badge.svg)](https://colab.research.google.com/github/fin-py/chatgpt-api-hands-on/blob/main/docs/agents.ipynb)"
   ]
  },
  {
   "attachments": {},
   "cell_type": "markdown",
   "metadata": {},
   "source": [
    "# Agents\n",
    "\n",
    "agentは実行するアクションとその順序を決定します。agentによってはツールを実行するものがあり、ここでは [SerpApi](https://serpapi.com/) を利用します。\n",
    "\n",
    "[API Key](https://serpapi.com/manage-api-key) を取得し、環境変数 `SERPAPI_API_KEY` を設定します。\n",
    "\n",
    "Pythonパッケージ `google-search-results` をインストールします。\n",
    "\n",
    "```bash\n",
    "pip install google-search-results\n",
    "```"
   ]
  },
  {
   "cell_type": "code",
   "execution_count": 1,
   "metadata": {},
   "outputs": [],
   "source": [
    "from langchain.agents import load_tools\n",
    "from langchain.agents import initialize_agent\n",
    "from langchain.agents import AgentType\n",
    "from langchain.llms import OpenAI"
   ]
  },
  {
   "attachments": {},
   "cell_type": "markdown",
   "metadata": {},
   "source": [
    "modelと利用するtoolを読み込みます。"
   ]
  },
  {
   "cell_type": "code",
   "execution_count": 2,
   "metadata": {},
   "outputs": [],
   "source": [
    "llm = OpenAI(temperature=0)\n",
    "tools = load_tools([\"serpapi\", \"llm-math\"], llm=llm)"
   ]
  },
  {
   "attachments": {},
   "cell_type": "markdown",
   "metadata": {},
   "source": [
    "tool、model、agentを指定してagentを初期化します。\n",
    "\n",
    "zero-shot-react-description\n",
    "\n",
    ": ReActフレームワークを使用して、ツールの説明のみに基づいて、どのツールを使用するかを決定します\n",
    "\n",
    "react-docstore\n",
    "\n",
    ": ReActフレームワークを使用して、docstoreと対話します\n",
    "\n",
    "self-ask-with-search\n",
    "\n",
    ": 質問に対する事実上の答えを検索します\n",
    "\n",
    "conversational-react-description\n",
    "\n",
    ": 会話で使用します\n",
    "\n",
    "> https://python.langchain.com/en/latest/modules/agents/agents/agent_types.html"
   ]
  },
  {
   "cell_type": "code",
   "execution_count": 5,
   "metadata": {},
   "outputs": [],
   "source": [
    "agent = initialize_agent(tools, llm, agent=AgentType.ZERO_SHOT_REACT_DESCRIPTION, verbose=True)"
   ]
  },
  {
   "attachments": {},
   "cell_type": "markdown",
   "metadata": {},
   "source": [
    "agentを実行します。"
   ]
  },
  {
   "cell_type": "code",
   "execution_count": 9,
   "metadata": {},
   "outputs": [
    {
     "name": "stdout",
     "output_type": "stream",
     "text": [
      "\n",
      "\n",
      "\u001b[1m> Entering new AgentExecutor chain...\u001b[0m\n",
      "\u001b[32;1m\u001b[1;3m I need to find the average temperature of Tokyo and Osaka in May.\n",
      "Action: Search\n",
      "Action Input: Tokyo and Osaka average temperature in May\u001b[0m\n",
      "Observation: \u001b[36;1m\u001b[1;3mHonshu is warm and sunny in May. Tokyo, Osaka, Kyoto, and Hiroshima have average highs of around 22°C (72°F). Temperatures get warmer in late May.\u001b[0m\n",
      "Thought:\u001b[32;1m\u001b[1;3m I need to calculate the difference between the two temperatures.\n",
      "Action: Calculator\n",
      "Action Input: 22°C - 22°C\u001b[0m\n",
      "Observation: \u001b[33;1m\u001b[1;3mAnswer: 0\u001b[0m\n",
      "Thought:\u001b[32;1m\u001b[1;3m I now know the final answer.\n",
      "Final Answer: The average temperature difference between Tokyo and Osaka in May is 0°C.\u001b[0m\n",
      "\n",
      "\u001b[1m> Finished chain.\u001b[0m\n"
     ]
    },
    {
     "data": {
      "text/plain": [
       "'The average temperature difference between Tokyo and Osaka in May is 0°C.'"
      ]
     },
     "execution_count": 9,
     "metadata": {},
     "output_type": "execute_result"
    }
   ],
   "source": [
    "agent.run(\"東京と大阪の5月の平均気温の差はどれくらいですか？\")"
   ]
  }
 ],
 "metadata": {
  "kernelspec": {
   "display_name": ".venv",
   "language": "python",
   "name": "python3"
  },
  "language_info": {
   "codemirror_mode": {
    "name": "ipython",
    "version": 3
   },
   "file_extension": ".py",
   "mimetype": "text/x-python",
   "name": "python",
   "nbconvert_exporter": "python",
   "pygments_lexer": "ipython3",
   "version": "3.10.10"
  },
  "orig_nbformat": 4
 },
 "nbformat": 4,
 "nbformat_minor": 2
}
