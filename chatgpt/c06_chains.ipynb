{
 "cells": [
  {
   "attachments": {},
   "cell_type": "markdown",
   "metadata": {},
   "source": [
    "[![Open in Colab](https://colab.research.google.com/assets/colab-badge.svg)](https://colab.research.google.com/github/fin-py/chatgpt-api-hands-on/blob/main/docs/chains.ipynb)"
   ]
  },
  {
   "attachments": {},
   "cell_type": "markdown",
   "metadata": {},
   "source": [
    "# Chains\n",
    "\n",
    "chainはLLMとコンポーネントを組み合わせたアプリケーションを作成します。たとえば、入力されたデータをもとにテンプレートからフォーマットした結果をLLMに渡すchainを作成したります。"
   ]
  },
  {
   "attachments": {},
   "cell_type": "markdown",
   "metadata": {},
   "source": [
    "`PromptTemplate` で生成したpromptとOpenAIのLLMを組み合わせています。"
   ]
  },
  {
   "cell_type": "code",
   "execution_count": 1,
   "metadata": {},
   "outputs": [
    {
     "name": "stdout",
     "output_type": "stream",
     "text": [
      "\n",
      "\n",
      "・太郎\n",
      "・拓真\n",
      "・大翔\n",
      "・亮太\n",
      "・健太\n",
      "・慎也\n",
      "・優斗\n",
      "・陸\n",
      "・柊\n",
      "・翼\n"
     ]
    }
   ],
   "source": [
    "from langchain.prompts import PromptTemplate\n",
    "from langchain.llms import OpenAI\n",
    "from langchain.chains import LLMChain\n",
    "\n",
    "llm = OpenAI(temperature=0.9)\n",
    "prompt = PromptTemplate(\n",
    "    input_variables=[\"gender\"],\n",
    "    template=\"健やかに育ってくれるような {gender} の名前を考えてください?\",\n",
    ")\n",
    "chain = LLMChain(llm=llm, prompt=prompt)\n",
    "# Run the chain only specifying the input variable.\n",
    "print(chain.run(\"男の子\"))"
   ]
  },
  {
   "attachments": {},
   "cell_type": "markdown",
   "metadata": {},
   "source": [
    "次のコードでは `HumanMessagePromptTemplate` を使っています。"
   ]
  },
  {
   "cell_type": "code",
   "execution_count": 2,
   "metadata": {},
   "outputs": [
    {
     "name": "stdout",
     "output_type": "stream",
     "text": [
      "1. あかり (Akari)：「明るい」という意味で、陽気で明るく生き生きとした女の子にぴったりです。\n",
      "2. かな (Kana)：「感謝」、「世話をする」という意味があり、優しく世話好きな女の子にぴったりです。\n",
      "3. はるか (Haruka)：「遥かに」、「遠くへ」という意味があり、大きな夢を持って未来を見据える女の子にぴったりです。\n",
      "4. ゆうか (Yuuka)：「優雅」、「優しさ」、「愛らしさ」という意味があり、優雅で美しい女の子にぴったりです。\n",
      "5. さくら (Sakura)：「桜」という花の名前で、春に咲く美しい花をイメージさせる女の子にぴったりです。\n",
      "6. あやか (Ayaka)：「彩果」という意味で、豊かな色彩を持つ果実をイメージさせる女の子にぴったりです。\n",
      "7. みお (Mio)：「美緒」と書き、美しいものを愛する心優しい女の子にぴったりです。\n",
      "8. ゆうき (Yuuki)：「勇気」、「勇敢さ」という意味があり、強い意志を持つ女の子にぴったりです。\n",
      "9. まどか (Madoka)：「円」という意味があり、やさしく包み込むような女の子にぴったりです。\n",
      "10. れいな (Reina)：「麗菜」と書き、美しく清楚な女の子にぴったりです。\n"
     ]
    }
   ],
   "source": [
    "from langchain.chat_models import ChatOpenAI\n",
    "from langchain.prompts.chat import (\n",
    "    ChatPromptTemplate,\n",
    "    HumanMessagePromptTemplate,\n",
    ")\n",
    "\n",
    "human_message_prompt = HumanMessagePromptTemplate(\n",
    "    prompt=PromptTemplate(\n",
    "        template=\"健やかに育ってくれるような {gender} の名前を考えてください?\",\n",
    "        input_variables=[\"gender\"],\n",
    "    )\n",
    ")\n",
    "chat_prompt_template = ChatPromptTemplate.from_messages([human_message_prompt])\n",
    "chat = ChatOpenAI(temperature=0.9)\n",
    "chain = LLMChain(llm=chat, prompt=chat_prompt_template)\n",
    "print(chain.run(\"女の子\"))"
   ]
  },
  {
   "attachments": {},
   "cell_type": "markdown",
   "metadata": {},
   "source": [
    "`LLMChain` のインスタンスは実行（ `__call__` ）でき、引数 `inputs` に入力を渡せます。"
   ]
  },
  {
   "cell_type": "code",
   "execution_count": 3,
   "metadata": {},
   "outputs": [
    {
     "data": {
      "text/plain": [
       "{'season': '春',\n",
       " 'text': '春の風や\\n馬車に揺られ\\n花見かな\\n\\n春の雨や\\n小川のせせらぎ\\n心癒され\\n\\n春の夜や\\n満月が照らす\\n桜の花\\n\\n春の光や\\n山々に映える\\n新緑の葉\\n\\n春の風や\\n鳥たちが舞う\\n空の青'}"
      ]
     },
     "execution_count": 3,
     "metadata": {},
     "output_type": "execute_result"
    }
   ],
   "source": [
    "chat = ChatOpenAI(temperature=0)\n",
    "prompt_template = \"{season} の俳句を読んでください\"\n",
    "llm_chain = LLMChain(\n",
    "    llm=chat,\n",
    "    prompt=PromptTemplate.from_template(prompt_template)\n",
    ")\n",
    "llm_chain(inputs={\"season\": \"春\"})"
   ]
  },
  {
   "attachments": {},
   "cell_type": "markdown",
   "metadata": {},
   "source": [
    "次のコードでは出力のみを返します。"
   ]
  },
  {
   "cell_type": "code",
   "execution_count": 4,
   "metadata": {},
   "outputs": [
    {
     "data": {
      "text/plain": [
       "{'text': '夏の風や\\n蝉の声に\\n涼を求む\\n\\n夏の夜や\\n星が瞬く\\n静寂の中\\n\\n夏の海や\\n波の音に\\n心癒され\\n\\n夏の日や\\n蝶が舞う\\n花の中'}"
      ]
     },
     "execution_count": 4,
     "metadata": {},
     "output_type": "execute_result"
    }
   ],
   "source": [
    "llm_chain(\"夏\", return_only_outputs=True)"
   ]
  },
  {
   "attachments": {},
   "cell_type": "markdown",
   "metadata": {},
   "source": [
    "複数の入力がある場合には `run` メソッドの引数に辞書を渡します。"
   ]
  },
  {
   "cell_type": "code",
   "execution_count": 5,
   "metadata": {},
   "outputs": [
    {
     "data": {
      "text/plain": [
       "'紅葉の\\n道を行く旅\\n秋の風\\n\\n秋の旅\\n山々の紅葉\\n美しき\\n\\n秋の夜\\n旅先の宿で\\n月を仰ぐ\\n\\n旅先に\\n秋の風が吹く\\n草の香り\\n\\n秋の旅\\n温泉に浸かり\\n心癒す\\n\\n旅先で\\n秋の味覚を\\n堪能する'"
      ]
     },
     "execution_count": 5,
     "metadata": {},
     "output_type": "execute_result"
    }
   ],
   "source": [
    "chat = ChatOpenAI(temperature=0)\n",
    "prompt_template = \"{theme} をテーマに {season} の俳句を読んでください\"\n",
    "llm_chain = LLMChain(\n",
    "    llm=chat,\n",
    "    prompt=PromptTemplate.from_template(prompt_template)\n",
    ")\n",
    "llm_chain.run({\"theme\": \"旅行\", \"season\": \"秋\"})"
   ]
  },
  {
   "attachments": {},
   "cell_type": "markdown",
   "metadata": {},
   "source": [
    "## Add memory to chains\n",
    "\n",
    "chainは `BaseMemory` オブジェクトをサポートしており、オブジェクトの呼び出しが複数あった際にデータを永続化できます。"
   ]
  },
  {
   "cell_type": "code",
   "execution_count": 6,
   "metadata": {},
   "outputs": [
    {
     "data": {
      "text/plain": [
       "'干支の5番目までは、子、丑、寅、卯、辰です。'"
      ]
     },
     "execution_count": 6,
     "metadata": {},
     "output_type": "execute_result"
    }
   ],
   "source": [
    "from langchain.chains import ConversationChain\n",
    "from langchain.memory import ConversationBufferMemory\n",
    "\n",
    "conversation = ConversationChain(\n",
    "    llm=chat,\n",
    "    memory=ConversationBufferMemory()\n",
    ")\n",
    "conversation.run(\"干支の5番目までを教えてください\")"
   ]
  },
  {
   "cell_type": "code",
   "execution_count": 7,
   "metadata": {},
   "outputs": [
    {
     "data": {
      "text/plain": [
       "'6番目以降の干支は巳、午、未、申、酉、戌、亥です。'"
      ]
     },
     "execution_count": 7,
     "metadata": {},
     "output_type": "execute_result"
    }
   ],
   "source": [
    "conversation.run(\"6番目以降を教えてください\")"
   ]
  }
 ],
 "metadata": {
  "kernelspec": {
   "display_name": ".venv",
   "language": "python",
   "name": "python3"
  },
  "language_info": {
   "codemirror_mode": {
    "name": "ipython",
    "version": 3
   },
   "file_extension": ".py",
   "mimetype": "text/x-python",
   "name": "python",
   "nbconvert_exporter": "python",
   "pygments_lexer": "ipython3",
   "version": "3.10.10"
  },
  "orig_nbformat": 4
 },
 "nbformat": 4,
 "nbformat_minor": 2
}
